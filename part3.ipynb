{
  "nbformat": 4,
  "nbformat_minor": 0,
  "metadata": {
    "colab": {
      "provenance": [],
      "authorship_tag": "ABX9TyMwm58NlZeM4XfPsgMCD6sY",
      "include_colab_link": true
    },
    "kernelspec": {
      "name": "python3",
      "display_name": "Python 3"
    },
    "language_info": {
      "name": "python"
    }
  },
  "cells": [
    {
      "cell_type": "markdown",
      "metadata": {
        "id": "view-in-github",
        "colab_type": "text"
      },
      "source": [
        "<a href=\"https://colab.research.google.com/github/YELISETTYMANIKANTA/23CSBTB29/blob/main/part3.ipynb\" target=\"_parent\"><img src=\"https://colab.research.google.com/assets/colab-badge.svg\" alt=\"Open In Colab\"/></a>"
      ]
    },
    {
      "cell_type": "code",
      "execution_count": 1,
      "metadata": {
        "colab": {
          "base_uri": "https://localhost:8080/"
        },
        "id": "mrrf702L4TpA",
        "outputId": "d5c16d96-460c-4f19-c27d-000753fe701f"
      },
      "outputs": [
        {
          "output_type": "stream",
          "name": "stdout",
          "text": [
            "     Sid    s.Name      course  Age  contact No  Batch No semester\n",
            "0   2001       Ram          Os   18   987654321        29     2--1\n",
            "1   2002      Ravi          Ds   19   637378988        29     2--1\n",
            "2   2003      Raju        java   18   123567890        30     2--1\n",
            "3   2004   krishna          Ls   18   733663533        29     2--1\n",
            "4   2005       sai      python   18   737373873        29     2--1\n",
            "5   2006    satwik          Ds   18   673737378        29     2--1\n",
            "6   2007     shiva         Mem   19   736376373        29     2--1\n",
            "7   2008      kaja         chy   18   733773778        29     2--1\n",
            "8   2009      teja        HTML   19   366376373        29     2--1\n",
            "9   2010      abhi           C   18   737887337        29     2--1\n",
            "10  2011     mohan         C++   19   763637777        29     2--1\n",
            "11  2012    kartik  java sript   18   475667677        29     2--1\n",
            "12  2013     pavan     hacking   18   563663637        29     2--1\n",
            "13  2014   hemanth         ECE   18   577676767        29     2--1\n",
            "14  2015      mani       Cloud   18   657676767        29     2--1\n",
            "15  2016  srikanth        AIML   19   667767686        29     2--1\n",
            "16  2017     anand         NCC   18   656575767        29     2--1\n",
            "17  2018    lalith    hackthon   19   565765656        29     2--1\n",
            "18  2019    ganesh          Gs   18   565776767        29     2--1\n",
            "19  2020    lokesh         SPD   19   567676767        29     2--1\n"
          ]
        }
      ],
      "source": [
        "import pandas as pd\n",
        "data=pd.read_excel(\"/AIML excel.xlsx\")\n",
        "print (data)"
      ]
    },
    {
      "cell_type": "code",
      "source": [
        "import pandas as pd\n",
        "data=pd.read_csv(\"/AIML csv.csv\")\n",
        "print(data)"
      ],
      "metadata": {
        "colab": {
          "base_uri": "https://localhost:8080/"
        },
        "id": "ofksdb9j7NjZ",
        "outputId": "e718e86e-20b2-4324-f5a2-5a57db2a77d5"
      },
      "execution_count": 2,
      "outputs": [
        {
          "output_type": "stream",
          "name": "stdout",
          "text": [
            "     Sid    s.Name      course  Age  contact No  Batch No semester\n",
            "0   2001       Ram          Os   18   987654321        29     2--1\n",
            "1   2002      Ravi          Ds   19   637378988        29     2--1\n",
            "2   2003      Raju        java   18   123567890        30     2--1\n",
            "3   2004   krishna          Ls   18   733663533        29     2--1\n",
            "4   2005       sai      python   18   737373873        29     2--1\n",
            "5   2006    satwik          Ds   18   673737378        29     2--1\n",
            "6   2007     shiva         Mem   19   736376373        29     2--1\n",
            "7   2008      kaja         chy   18   733773778        29     2--1\n",
            "8   2009      teja        HTML   19   366376373        29     2--1\n",
            "9   2010      abhi           C   18   737887337        29     2--1\n",
            "10  2011     mohan         C++   19   763637777        29     2--1\n",
            "11  2012    kartik  java sript   18   475667677        29     2--1\n",
            "12  2013     pavan     hacking   18   563663637        29     2--1\n",
            "13  2014   hemanth         ECE   18   577676767        29     2--1\n",
            "14  2015      mani       Cloud   18   657676767        29     2--1\n",
            "15  2016  srikanth        AIML   19   667767686        29     2--1\n",
            "16  2017     anand         NCC   18   656575767        29     2--1\n",
            "17  2018    lalith    hackthon   19   565765656        29     2--1\n",
            "18  2019    ganesh          Gs   18   565776767        29     2--1\n",
            "19  2020    lokesh         SPD   19   567676767        29     2--1\n"
          ]
        }
      ]
    },
    {
      "cell_type": "code",
      "source": [
        "import pandas as pd\n",
        "data=pd.read_csv(\"/heart1.csv\")\n",
        "print(data)"
      ],
      "metadata": {
        "colab": {
          "base_uri": "https://localhost:8080/"
        },
        "id": "7UO1zJal70ay",
        "outputId": "967928ac-1a24-42e4-aac7-66f65400d50d"
      },
      "execution_count": 4,
      "outputs": [
        {
          "output_type": "stream",
          "name": "stdout",
          "text": [
            "      age  sex  cp  trestbps  chol  fbs  restecg  thalach  exang  oldpeak  \\\n",
            "0      52    1   0       125   212    0        1      168      0      1.0   \n",
            "1      53    1   0       140   203    1        0      155      1      3.1   \n",
            "2      70    1   0       145   174    0        1      125      1      2.6   \n",
            "3      61    1   0       148   203    0        1      161      0      0.0   \n",
            "4      62    0   0       138   294    1        1      106      0      1.9   \n",
            "...   ...  ...  ..       ...   ...  ...      ...      ...    ...      ...   \n",
            "1020   59    1   1       140   221    0        1      164      1      0.0   \n",
            "1021   60    1   0       125   258    0        0      141      1      2.8   \n",
            "1022   47    1   0       110   275    0        0      118      1      1.0   \n",
            "1023   50    0   0       110   254    0        0      159      0      0.0   \n",
            "1024   54    1   0       120   188    0        1      113      0      1.4   \n",
            "\n",
            "      slope  ca  thal  target  \n",
            "0         2   2     3       0  \n",
            "1         0   0     3       0  \n",
            "2         0   0     3       0  \n",
            "3         2   1     3       0  \n",
            "4         1   3     2       0  \n",
            "...     ...  ..   ...     ...  \n",
            "1020      2   0     2       1  \n",
            "1021      1   1     3       0  \n",
            "1022      1   1     2       0  \n",
            "1023      2   0     2       1  \n",
            "1024      1   1     3       0  \n",
            "\n",
            "[1025 rows x 14 columns]\n"
          ]
        }
      ]
    },
    {
      "cell_type": "code",
      "source": [
        "import pandas as pd\n",
        "data=pd.read_table(\"/content/part3.txt\")\n",
        "print(data)"
      ],
      "metadata": {
        "colab": {
          "base_uri": "https://localhost:8080/"
        },
        "id": "SHS-fUK6-UBz",
        "outputId": "eb3b4d1d-b891-4031-a561-007f47e38d65"
      },
      "execution_count": 5,
      "outputs": [
        {
          "output_type": "stream",
          "name": "stdout",
          "text": [
            "                                  Sid     s.Name     course   Age  \\\n",
            "2001 Ram                           Os         18  987654321    29   \n",
            "2002 Ravi                          Ds         19  637378988    29   \n",
            "2003 Raju                        java         18  123567890    30   \n",
            "2004 krishna                       Ls         18  733663533    29   \n",
            "2005 sai                       python         18  737373873    29   \n",
            "2006 satwik                        Ds         18  673737378    29   \n",
            "2007 shiva                        Mem         19  736376373    29   \n",
            "2008 kaja                         chy         18  733773778    29   \n",
            "2009 teja                        HTML         19  366376373    29   \n",
            "2010 abhi                           C         18  737887337    29   \n",
            "2011 mohan                        C++         19  763637777    29   \n",
            "2012 kartik javasript 18    475667677         29       2--1   NaN   \n",
            "2013 pavan                    hacking         18  563663637    29   \n",
            "2014 hemanth                      ECE         18  577676767    29   \n",
            "2015 mani                       Cloud         18  657676767    29   \n",
            "2016 Srikanth AIML                 19  667767686         29  2--1   \n",
            "2017 anand                        NCC         18  656575767    29   \n",
            "2018 lalith               hackthon 19  565765656         29  2--1   \n",
            "2019 ganesh                        Gs         18  565776767    29   \n",
            "2020 lokesh                       SPD         19  567676767    29   \n",
            "\n",
            "                         contact No Batch No semester  \n",
            "2001 Ram                                         2--1  \n",
            "2002 Ravi                                        2--1  \n",
            "2003 Raju                                        2--1  \n",
            "2004 krishna                                     2--1  \n",
            "2005 sai                                         2--1  \n",
            "2006 satwik                                      2--1  \n",
            "2007 shiva                                       2--1  \n",
            "2008 kaja                                        2--1  \n",
            "2009 teja                                        2--1  \n",
            "2010 abhi                                        2--1  \n",
            "2011 mohan                                       2--1  \n",
            "2012 kartik javasript 18                          NaN  \n",
            "2013 pavan                                       2--1  \n",
            "2014 hemanth                                     2--1  \n",
            "2015 mani                                        2--1  \n",
            "2016 Srikanth AIML                                NaN  \n",
            "2017 anand                                       2--1  \n",
            "2018 lalith                                       NaN  \n",
            "2019 ganesh                                      2--1  \n",
            "2020 lokesh                                      2--1  \n"
          ]
        }
      ]
    },
    {
      "cell_type": "code",
      "source": [
        "import pandas as pd\n",
        "data=pd.read_csv(\"/content/games1.csv\")\n",
        "print(data)"
      ],
      "metadata": {
        "colab": {
          "base_uri": "https://localhost:8080/"
        },
        "id": "DlkcchD0_gHZ",
        "outputId": "80ea7982-f5df-44ff-ccfc-4ed7c7f8aa8b"
      },
      "execution_count": 6,
      "outputs": [
        {
          "output_type": "stream",
          "name": "stdout",
          "text": [
            "                                    Game Name       Genre         Platform  \\\n",
            "0                   Sekiro: Shadows Die Twice      Sports  Nintendo Switch   \n",
            "1                                     Control      Puzzle  Nintendo Switch   \n",
            "2                                    Among Us    Strategy  Nintendo Switch   \n",
            "3                Call of Duty: Modern Warfare     Stealth      PlayStation   \n",
            "4                           League of Legends  Simulation               PC   \n",
            "...                                       ...         ...              ...   \n",
            "4995  The Legend of Zelda: Breath of the Wild      Sports               PC   \n",
            "4996                Assassin's Creed Valhalla     Stealth           Mobile   \n",
            "4997             Fall Guys: Ultimate Knockout      Sports           Mobile   \n",
            "4998                            Borderlands 3  Platformer             Xbox   \n",
            "4999         Counter-Strike: Global Offensive      Action      PlayStation   \n",
            "\n",
            "      Release Year  User Rating  \n",
            "0             2014     9.654719  \n",
            "1             2000     3.457386  \n",
            "2             2007     5.367622  \n",
            "3             2005     1.240325  \n",
            "4             2021     3.535476  \n",
            "...            ...          ...  \n",
            "4995          2013     6.352838  \n",
            "4996          2020     1.852730  \n",
            "4997          2021     5.268067  \n",
            "4998          2018     4.558510  \n",
            "4999          2022     3.443231  \n",
            "\n",
            "[5000 rows x 5 columns]\n"
          ]
        }
      ]
    }
  ]
}