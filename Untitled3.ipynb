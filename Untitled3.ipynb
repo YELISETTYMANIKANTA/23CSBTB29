{
  "nbformat": 4,
  "nbformat_minor": 0,
  "metadata": {
    "colab": {
      "provenance": [],
      "authorship_tag": "ABX9TyP9KyoFVV0eqPqAM4vCRaaF",
      "include_colab_link": true
    },
    "kernelspec": {
      "name": "python3",
      "display_name": "Python 3"
    },
    "language_info": {
      "name": "python"
    }
  },
  "cells": [
    {
      "cell_type": "markdown",
      "metadata": {
        "id": "view-in-github",
        "colab_type": "text"
      },
      "source": [
        "<a href=\"https://colab.research.google.com/github/YELISETTYMANIKANTA/23CSBTB29/blob/main/Untitled3.ipynb\" target=\"_parent\"><img src=\"https://colab.research.google.com/assets/colab-badge.svg\" alt=\"Open In Colab\"/></a>"
      ]
    },
    {
      "cell_type": "code",
      "execution_count": 2,
      "metadata": {
        "colab": {
          "base_uri": "https://localhost:8080/"
        },
        "id": "BAVSLlHytgt6",
        "outputId": "db946d9b-8046-4890-fd15-11781c7d3b3d"
      },
      "outputs": [
        {
          "output_type": "stream",
          "name": "stdout",
          "text": [
            "{2: 4, 5: 25, 3: 9, 8: 64, 6: 36}\n",
            "<class 'dict'>\n"
          ]
        }
      ],
      "source": [
        "##Implement Basic Data Structures using Numpy, Pandas\n",
        "lst={2:4,5:25,3:9,8:64,6:36}\n",
        "print(lst)\n",
        "print(type(lst))"
      ]
    },
    {
      "cell_type": "code",
      "source": [
        "lst=(1,2,3)\n",
        "print(lst)\n",
        "print(type(lst))"
      ],
      "metadata": {
        "colab": {
          "base_uri": "https://localhost:8080/"
        },
        "id": "fH0PjrY9wDsV",
        "outputId": "77b63666-7da0-4b7e-979d-09ba1a50f306"
      },
      "execution_count": 7,
      "outputs": [
        {
          "output_type": "stream",
          "name": "stdout",
          "text": [
            "(1, 2, 3)\n",
            "<class 'tuple'>\n"
          ]
        }
      ]
    },
    {
      "cell_type": "code",
      "source": [
        "lst= [1,2,3]\n",
        "print(lst)\n",
        "print(type(lst))"
      ],
      "metadata": {
        "colab": {
          "base_uri": "https://localhost:8080/"
        },
        "id": "Om37x_39x87O",
        "outputId": "50e37e92-6fec-4dc5-fe8f-d18cd2202df8"
      },
      "execution_count": 8,
      "outputs": [
        {
          "output_type": "stream",
          "name": "stdout",
          "text": [
            "[1, 2, 3]\n",
            "<class 'list'>\n"
          ]
        }
      ]
    },
    {
      "cell_type": "code",
      "source": [
        "lst= {1,2,3}\n",
        "print(lst)\n",
        "print(type(lst))"
      ],
      "metadata": {
        "colab": {
          "base_uri": "https://localhost:8080/"
        },
        "id": "z4nLnMkdybs2",
        "outputId": "4209d866-463b-4b6c-9501-31cfb2b2fbab"
      },
      "execution_count": 9,
      "outputs": [
        {
          "output_type": "stream",
          "name": "stdout",
          "text": [
            "{1, 2, 3}\n",
            "<class 'set'>\n"
          ]
        }
      ]
    },
    {
      "cell_type": "code",
      "source": [
        "lst=8.89\n",
        "print(lst)\n",
        "print(type(lst))"
      ],
      "metadata": {
        "colab": {
          "base_uri": "https://localhost:8080/"
        },
        "id": "_9epzbPQzBlH",
        "outputId": "1299bfe1-fdbe-4ef7-f433-0ec3de92fa2e"
      },
      "execution_count": 10,
      "outputs": [
        {
          "output_type": "stream",
          "name": "stdout",
          "text": [
            "8.89\n",
            "<class 'float'>\n"
          ]
        }
      ]
    },
    {
      "cell_type": "code",
      "source": [
        "lst= \"hello world\"\n",
        "print(lst)\n",
        "print(type(lst))"
      ],
      "metadata": {
        "colab": {
          "base_uri": "https://localhost:8080/"
        },
        "id": "Vk7jzlfMzd97",
        "outputId": "47bee4a5-84e1-4278-db91-4b95e58a7d21"
      },
      "execution_count": 11,
      "outputs": [
        {
          "output_type": "stream",
          "name": "stdout",
          "text": [
            "hello world\n",
            "<class 'str'>\n"
          ]
        }
      ]
    },
    {
      "cell_type": "code",
      "source": [
        "lst=7+9j\n",
        "print(lst)\n",
        "print(type(lst))"
      ],
      "metadata": {
        "colab": {
          "base_uri": "https://localhost:8080/"
        },
        "id": "I47nLudKzrK4",
        "outputId": "3a292e71-39c8-4f38-d352-3d47c034a3c9"
      },
      "execution_count": 12,
      "outputs": [
        {
          "output_type": "stream",
          "name": "stdout",
          "text": [
            "(7+9j)\n",
            "<class 'complex'>\n"
          ]
        }
      ]
    },
    {
      "cell_type": "markdown",
      "source": [],
      "metadata": {
        "id": "TG7Ww7YHz6IT"
      }
    }
  ]
}