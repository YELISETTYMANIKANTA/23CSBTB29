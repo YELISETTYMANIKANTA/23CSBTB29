{
  "nbformat": 4,
  "nbformat_minor": 0,
  "metadata": {
    "colab": {
      "provenance": [],
      "authorship_tag": "ABX9TyP+1aNU9kAyI+vGJjC/ujnl",
      "include_colab_link": true
    },
    "kernelspec": {
      "name": "python3",
      "display_name": "Python 3"
    },
    "language_info": {
      "name": "python"
    }
  },
  "cells": [
    {
      "cell_type": "markdown",
      "metadata": {
        "id": "view-in-github",
        "colab_type": "text"
      },
      "source": [
        "<a href=\"https://colab.research.google.com/github/YELISETTYMANIKANTA/23CSBTB29/blob/main/Lab%20exam.ipynb\" target=\"_parent\"><img src=\"https://colab.research.google.com/assets/colab-badge.svg\" alt=\"Open In Colab\"/></a>"
      ]
    },
    {
      "source": [
        "import pandas as pd\n",
        "from sklearn.model_selection import train_test_split\n",
        "from sklearn.preprocessing import StandardScaler\n",
        "from sklearn.neighbors import KNeighborsClassifier\n",
        "from sklearn.metrics import accuracy_score\n",
        "\n",
        "data = pd.read_csv('/content/test.csv')\n",
        "\n",
        "# Inspect the columns of the dataframe to see if it contains any features\n",
        "print(data.columns)\n",
        "\n",
        "# Assuming your target variable is in the first column and is named differently,\n",
        "# for example 'y' or is part of a string like 'target=yes'. You may need to inspect your data.\n",
        "# Here's an example if your target is in the first column named 'y':\n",
        "data.columns = ['target'] + list(data.columns[1:]) #rename the first column to 'target'\n",
        "# Or if it's in a string column that needs parsing:\n",
        "# data['target'] = data['column_with_target'].apply(lambda x: 1 if 'target=yes' in x else 0)\n",
        "\n",
        "X = data.drop('target', axis=1)\n",
        "y = data['target']\n",
        "\n",
        "# Check if X is empty before proceeding\n",
        "if X.empty:\n",
        "    print(\"Error: DataFrame X is empty. Check your data and preprocessing steps.\")\n",
        "    # Add code here to fix the empty DataFrame, likely an issue with reading the data\n",
        "else:\n",
        "    X_train, X_test, y_train, y_test = train_test_split(X, y, test_size=0.2, random_state=42)\n",
        "    scaler = StandardScaler()\n",
        "    X_train = scaler.fit_transform(X_train)\n",
        "    X_test = scaler.transform(X_test)\n",
        "    knn = KNeighborsClassifier(n_neighbors=5)\n",
        "    knn.fit(X_train, y_train)\n",
        "    y_pred = knn.predict(X_test)\n",
        "    accuracy = accuracy_score(y_test, y_pred)\n",
        "    print(\"Accuracy:\", accuracy)"
      ],
      "cell_type": "code",
      "metadata": {
        "colab": {
          "base_uri": "https://localhost:8080/"
        },
        "id": "YPxFbDuhiToH",
        "outputId": "e00ec8a3-6980-4840-aa3e-933b740c4c80"
      },
      "execution_count": 4,
      "outputs": [
        {
          "output_type": "stream",
          "name": "stdout",
          "text": [
            "Index(['age;\"job\";\"marital\";\"education\";\"default\";\"balance\";\"housing\";\"loan\";\"contact\";\"day\";\"month\";\"duration\";\"campaign\";\"pdays\";\"previous\";\"poutcome\";\"y\"'], dtype='object')\n",
            "Error: DataFrame X is empty. Check your data and preprocessing steps.\n"
          ]
        }
      ]
    }
  ]
}