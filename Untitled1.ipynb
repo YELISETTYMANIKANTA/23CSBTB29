{
  "nbformat": 4,
  "nbformat_minor": 0,
  "metadata": {
    "colab": {
      "provenance": [],
      "authorship_tag": "ABX9TyOfCJe1QjynX2jp+PDsgt7D",
      "include_colab_link": true
    },
    "kernelspec": {
      "name": "python3",
      "display_name": "Python 3"
    },
    "language_info": {
      "name": "python"
    }
  },
  "cells": [
    {
      "cell_type": "markdown",
      "metadata": {
        "id": "view-in-github",
        "colab_type": "text"
      },
      "source": [
        "<a href=\"https://colab.research.google.com/github/YELISETTYMANIKANTA/23CSBTB29/blob/main/Untitled1.ipynb\" target=\"_parent\"><img src=\"https://colab.research.google.com/assets/colab-badge.svg\" alt=\"Open In Colab\"/></a>"
      ]
    },
    {
      "cell_type": "code",
      "execution_count": 1,
      "metadata": {
        "colab": {
          "base_uri": "https://localhost:8080/"
        },
        "id": "W2QuSPTVr5Ev",
        "outputId": "45e900e5-a41d-487c-c117-4a350ff24730"
      },
      "outputs": [
        {
          "output_type": "stream",
          "name": "stdout",
          "text": [
            "Type of my_list: <class 'list'>\n",
            "Type of my_array: <class 'numpy.ndarray'>\n",
            "Type of my_series: <class 'pandas.core.series.Series'>\n"
          ]
        }
      ],
      "source": [
        "# Creating a Python list\n",
        "my_list = [1, 2, 3, 4, 5]\n",
        "\n",
        "# Identifying the type of the list\n",
        "print(\"Type of my_list:\", type(my_list))\n",
        "import numpy as np\n",
        "\n",
        "# Creating a NumPy array\n",
        "my_array = np.array([1, 2, 3, 4, 5])\n",
        "\n",
        "# Identifying the type of the array\n",
        "print(\"Type of my_array:\", type(my_array))\n",
        "import pandas as pd\n",
        "\n",
        "# Creating a Pandas Series\n",
        "my_series = pd.Series([1, 2, 3, 4, 5])\n",
        "\n",
        "# Identifying the type of the series\n",
        "print(\"Type of my_series:\", type(my_series))"
      ]
    }
  ]
}