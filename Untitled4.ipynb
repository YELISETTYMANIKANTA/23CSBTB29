{
  "nbformat": 4,
  "nbformat_minor": 0,
  "metadata": {
    "colab": {
      "provenance": [],
      "authorship_tag": "ABX9TyOm8X6vGOyHsD+uQdsnqzZp",
      "include_colab_link": true
    },
    "kernelspec": {
      "name": "python3",
      "display_name": "Python 3"
    },
    "language_info": {
      "name": "python"
    }
  },
  "cells": [
    {
      "cell_type": "markdown",
      "metadata": {
        "id": "view-in-github",
        "colab_type": "text"
      },
      "source": [
        "<a href=\"https://colab.research.google.com/github/YELISETTYMANIKANTA/23CSBTB29/blob/main/Untitled4.ipynb\" target=\"_parent\"><img src=\"https://colab.research.google.com/assets/colab-badge.svg\" alt=\"Open In Colab\"/></a>"
      ]
    },
    {
      "cell_type": "code",
      "execution_count": 1,
      "metadata": {
        "colab": {
          "base_uri": "https://localhost:8080/"
        },
        "id": "5iTyW4axBVjO",
        "outputId": "b0d540d4-3585-49ea-c9c5-9697bcb0abfe"
      },
      "outputs": [
        {
          "output_type": "stream",
          "name": "stdout",
          "text": [
            "Multiplication result: [ 5 12 21 32]\n",
            "Division result: [0.2        0.33333333 0.42857143 0.5       ]\n",
            "Power result (squared): [ 1  4  9 16]\n"
          ]
        }
      ],
      "source": [
        "##Perform mathematical operations on these datasets created - multiplication, division\n",
        "import numpy as np\n",
        "array1 = np.array([1, 2, 3, 4])\n",
        "array2 = np.array([5, 6, 7, 8])\n",
        "product = np.multiply(array1, array2)\n",
        "print(\"Multiplication result:\", product)\n",
        "quotient = np.divide(array1, array2)\n",
        "print(\"Division result:\", quotient)\n",
        "power = np.power(array1, 2)\n",
        "print(\"Power result (squared):\", power)"
      ]
    },
    {
      "cell_type": "code",
      "source": [
        "import numpy as np\n",
        "array = np.array([0, np.pi/4, np.pi/2, np.pi])\n",
        "sin_values = np.sin(array)\n",
        "print(\"Sine values:\", sin_values)\n",
        "log_values = np.log(array[array > 0])\n",
        "print(\"Natural logarithm values:\", log_values)\n",
        "log2_values = np.log2(array[array > 0])\n",
        "print(\"Logarithm base 2 values:\", log2_values)\n",
        "exp_values = np.exp(array)\n",
        "print(\"Exponential values:\", exp_values)"
      ],
      "metadata": {
        "colab": {
          "base_uri": "https://localhost:8080/"
        },
        "id": "1hqsuFRJCA6O",
        "outputId": "bbb14337-3b13-4883-9d69-82dbeec10be0"
      },
      "execution_count": 2,
      "outputs": [
        {
          "output_type": "stream",
          "name": "stdout",
          "text": [
            "Sine values: [0.00000000e+00 7.07106781e-01 1.00000000e+00 1.22464680e-16]\n",
            "Natural logarithm values: [-0.24156448  0.45158271  1.14472989]\n",
            "Logarithm base 2 values: [-0.34850387  0.65149613  1.65149613]\n",
            "Exponential values: [ 1.          2.19328005  4.81047738 23.14069263]\n"
          ]
        }
      ]
    },
    {
      "cell_type": "code",
      "source": [
        "import numpy as np\n",
        "array = np.array([0, np.pi/4, np.pi/2, np.pi])\n",
        "sin_values = np.sin(array)\n",
        "print(\"Type of sin_values:\", type(sin_values))\n",
        "log_values = np.log(array[array > 0])\n",
        "print(\"Type of log_values:\", type(log_values))\n",
        "log2_values = np.log2(array[array > 0])\n",
        "print(\"Type of log2_values:\", type(log2_values))\n",
        "exp_values = np.exp(array)\n",
        "print(\"Type of exp_values:\", type(exp_values))"
      ],
      "metadata": {
        "colab": {
          "base_uri": "https://localhost:8080/"
        },
        "id": "K4ujOksuCwnN",
        "outputId": "959f954d-1fc1-41bb-80b5-c7e1a0c8fbd7"
      },
      "execution_count": 3,
      "outputs": [
        {
          "output_type": "stream",
          "name": "stdout",
          "text": [
            "Type of sin_values: <class 'numpy.ndarray'>\n",
            "Type of log_values: <class 'numpy.ndarray'>\n",
            "Type of log2_values: <class 'numpy.ndarray'>\n",
            "Type of exp_values: <class 'numpy.ndarray'>\n"
          ]
        }
      ]
    },
    {
      "cell_type": "code",
      "source": [
        "import numpy as np\n",
        "array1 = np.array([1, 2, 3, 4])\n",
        "array2 = np.array([5, 6, 7, 8])\n",
        "sum_array = array1 + array2\n",
        "print(f\"Addition of Two Arrays:\\n{array1} + {array2} = {sum_array}\")"
      ],
      "metadata": {
        "colab": {
          "base_uri": "https://localhost:8080/"
        },
        "id": "y6SnZ-W5C2N8",
        "outputId": "9bae7e22-94b9-4d50-9865-f6e0da2fa421"
      },
      "execution_count": 4,
      "outputs": [
        {
          "output_type": "stream",
          "name": "stdout",
          "text": [
            "Addition of Two Arrays:\n",
            "[1 2 3 4] + [5 6 7 8] = [ 6  8 10 12]\n"
          ]
        }
      ]
    }
  ]
}